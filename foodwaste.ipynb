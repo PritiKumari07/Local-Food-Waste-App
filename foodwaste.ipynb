{
 "cells": [
  {
   "cell_type": "code",
   "execution_count": 90,
   "id": "5f00447a",
   "metadata": {},
   "outputs": [],
   "source": [
    "import pandas as pd\n",
    "import warnings\n",
    "warnings.filterwarnings(\"ignore\")\n"
   ]
  },
  {
   "cell_type": "code",
   "execution_count": 91,
   "id": "db3e0ac0",
   "metadata": {},
   "outputs": [],
   "source": [
    "providers = pd.read_csv(\"/Users/pritidwivedi/Downloads/providers_data.csv\")\n",
    "receivers = pd.read_csv(\"/Users/pritidwivedi/Downloads/receivers_data.csv\")\n",
    "food_listings = pd.read_csv(\"/Users/pritidwivedi/Downloads/food_listings_data.csv\")\n",
    "claims = pd.read_csv(\"/Users/pritidwivedi/Downloads/claims_data.csv\")"
   ]
  },
  {
   "cell_type": "code",
   "execution_count": 92,
   "id": "4348d6f2",
   "metadata": {},
   "outputs": [
    {
     "name": "stdout",
     "output_type": "stream",
     "text": [
      "Index(['provider_id', 'name', 'type', 'address', 'city', 'contact'], dtype='object')\n"
     ]
    }
   ],
   "source": [
    "\n",
    "\n",
    "# Convert all column names to lowercase and replace spaces with underscores\n",
    "providers.columns = providers.columns.str.lower()\n",
    "receivers.columns = receivers.columns.str.lower()\n",
    "claims.columns = claims.columns.str.lower()\n",
    "food_listings.columns = food_listings.columns.str.lower()\n",
    "\n",
    "\n",
    "print(providers.columns)"
   ]
  },
  {
   "cell_type": "code",
   "execution_count": 93,
   "id": "1a101347",
   "metadata": {},
   "outputs": [
    {
     "data": {
      "text/html": [
       "<div>\n",
       "<style scoped>\n",
       "    .dataframe tbody tr th:only-of-type {\n",
       "        vertical-align: middle;\n",
       "    }\n",
       "\n",
       "    .dataframe tbody tr th {\n",
       "        vertical-align: top;\n",
       "    }\n",
       "\n",
       "    .dataframe thead th {\n",
       "        text-align: right;\n",
       "    }\n",
       "</style>\n",
       "<table border=\"1\" class=\"dataframe\">\n",
       "  <thead>\n",
       "    <tr style=\"text-align: right;\">\n",
       "      <th></th>\n",
       "      <th>provider_id</th>\n",
       "      <th>name</th>\n",
       "      <th>type</th>\n",
       "      <th>address</th>\n",
       "      <th>city</th>\n",
       "      <th>contact</th>\n",
       "    </tr>\n",
       "  </thead>\n",
       "  <tbody>\n",
       "    <tr>\n",
       "      <th>0</th>\n",
       "      <td>1</td>\n",
       "      <td>Gonzales-Cochran</td>\n",
       "      <td>Supermarket</td>\n",
       "      <td>74347 Christopher Extensions\\nAndreamouth, OK ...</td>\n",
       "      <td>New Jessica</td>\n",
       "      <td>+1-600-220-0480</td>\n",
       "    </tr>\n",
       "    <tr>\n",
       "      <th>1</th>\n",
       "      <td>2</td>\n",
       "      <td>Nielsen, Johnson and Fuller</td>\n",
       "      <td>Grocery Store</td>\n",
       "      <td>91228 Hanson Stream\\nWelchtown, OR 27136</td>\n",
       "      <td>East Sheena</td>\n",
       "      <td>+1-925-283-8901x6297</td>\n",
       "    </tr>\n",
       "    <tr>\n",
       "      <th>2</th>\n",
       "      <td>3</td>\n",
       "      <td>Miller-Black</td>\n",
       "      <td>Supermarket</td>\n",
       "      <td>561 Martinez Point Suite 507\\nGuzmanchester, W...</td>\n",
       "      <td>Lake Jesusview</td>\n",
       "      <td>001-517-295-2206</td>\n",
       "    </tr>\n",
       "    <tr>\n",
       "      <th>3</th>\n",
       "      <td>4</td>\n",
       "      <td>Clark, Prince and Williams</td>\n",
       "      <td>Grocery Store</td>\n",
       "      <td>467 Bell Trail Suite 409\\nPort Jesus, IA 61188</td>\n",
       "      <td>Mendezmouth</td>\n",
       "      <td>556.944.8935x401</td>\n",
       "    </tr>\n",
       "    <tr>\n",
       "      <th>4</th>\n",
       "      <td>5</td>\n",
       "      <td>Coleman-Farley</td>\n",
       "      <td>Grocery Store</td>\n",
       "      <td>078 Matthew Creek Apt. 319\\nSaraborough, MA 53978</td>\n",
       "      <td>Valentineside</td>\n",
       "      <td>193.714.6577</td>\n",
       "    </tr>\n",
       "  </tbody>\n",
       "</table>\n",
       "</div>"
      ],
      "text/plain": [
       "   provider_id                         name           type  \\\n",
       "0            1             Gonzales-Cochran    Supermarket   \n",
       "1            2  Nielsen, Johnson and Fuller  Grocery Store   \n",
       "2            3                 Miller-Black    Supermarket   \n",
       "3            4   Clark, Prince and Williams  Grocery Store   \n",
       "4            5               Coleman-Farley  Grocery Store   \n",
       "\n",
       "                                             address            city  \\\n",
       "0  74347 Christopher Extensions\\nAndreamouth, OK ...     New Jessica   \n",
       "1           91228 Hanson Stream\\nWelchtown, OR 27136     East Sheena   \n",
       "2  561 Martinez Point Suite 507\\nGuzmanchester, W...  Lake Jesusview   \n",
       "3     467 Bell Trail Suite 409\\nPort Jesus, IA 61188     Mendezmouth   \n",
       "4  078 Matthew Creek Apt. 319\\nSaraborough, MA 53978   Valentineside   \n",
       "\n",
       "                contact  \n",
       "0       +1-600-220-0480  \n",
       "1  +1-925-283-8901x6297  \n",
       "2      001-517-295-2206  \n",
       "3      556.944.8935x401  \n",
       "4          193.714.6577  "
      ]
     },
     "execution_count": 93,
     "metadata": {},
     "output_type": "execute_result"
    }
   ],
   "source": [
    "providers.head()"
   ]
  },
  {
   "cell_type": "code",
   "execution_count": 94,
   "id": "6873976a",
   "metadata": {},
   "outputs": [
    {
     "data": {
      "text/html": [
       "<div>\n",
       "<style scoped>\n",
       "    .dataframe tbody tr th:only-of-type {\n",
       "        vertical-align: middle;\n",
       "    }\n",
       "\n",
       "    .dataframe tbody tr th {\n",
       "        vertical-align: top;\n",
       "    }\n",
       "\n",
       "    .dataframe thead th {\n",
       "        text-align: right;\n",
       "    }\n",
       "</style>\n",
       "<table border=\"1\" class=\"dataframe\">\n",
       "  <thead>\n",
       "    <tr style=\"text-align: right;\">\n",
       "      <th></th>\n",
       "      <th>receiver_id</th>\n",
       "      <th>name</th>\n",
       "      <th>type</th>\n",
       "      <th>city</th>\n",
       "      <th>contact</th>\n",
       "    </tr>\n",
       "  </thead>\n",
       "  <tbody>\n",
       "    <tr>\n",
       "      <th>0</th>\n",
       "      <td>1</td>\n",
       "      <td>Donald Gomez</td>\n",
       "      <td>Shelter</td>\n",
       "      <td>Port Carlburgh</td>\n",
       "      <td>(955)922-5295</td>\n",
       "    </tr>\n",
       "    <tr>\n",
       "      <th>1</th>\n",
       "      <td>2</td>\n",
       "      <td>Laurie Ramos</td>\n",
       "      <td>Individual</td>\n",
       "      <td>Lewisburgh</td>\n",
       "      <td>761.042.1570</td>\n",
       "    </tr>\n",
       "    <tr>\n",
       "      <th>2</th>\n",
       "      <td>3</td>\n",
       "      <td>Ashley Mckee</td>\n",
       "      <td>NGO</td>\n",
       "      <td>South Randalltown</td>\n",
       "      <td>691-023-0094x856</td>\n",
       "    </tr>\n",
       "    <tr>\n",
       "      <th>3</th>\n",
       "      <td>4</td>\n",
       "      <td>Erika Rose</td>\n",
       "      <td>NGO</td>\n",
       "      <td>South Shaneville</td>\n",
       "      <td>8296491111</td>\n",
       "    </tr>\n",
       "    <tr>\n",
       "      <th>4</th>\n",
       "      <td>5</td>\n",
       "      <td>John Romero</td>\n",
       "      <td>Individual</td>\n",
       "      <td>Bakerport</td>\n",
       "      <td>067.491.0154</td>\n",
       "    </tr>\n",
       "  </tbody>\n",
       "</table>\n",
       "</div>"
      ],
      "text/plain": [
       "   receiver_id          name        type               city           contact\n",
       "0            1  Donald Gomez     Shelter     Port Carlburgh     (955)922-5295\n",
       "1            2  Laurie Ramos  Individual         Lewisburgh      761.042.1570\n",
       "2            3  Ashley Mckee         NGO  South Randalltown  691-023-0094x856\n",
       "3            4    Erika Rose         NGO   South Shaneville        8296491111\n",
       "4            5   John Romero  Individual          Bakerport      067.491.0154"
      ]
     },
     "execution_count": 94,
     "metadata": {},
     "output_type": "execute_result"
    }
   ],
   "source": [
    "receivers.head()"
   ]
  },
  {
   "cell_type": "code",
   "execution_count": 95,
   "id": "9548353b",
   "metadata": {},
   "outputs": [
    {
     "data": {
      "text/html": [
       "<div>\n",
       "<style scoped>\n",
       "    .dataframe tbody tr th:only-of-type {\n",
       "        vertical-align: middle;\n",
       "    }\n",
       "\n",
       "    .dataframe tbody tr th {\n",
       "        vertical-align: top;\n",
       "    }\n",
       "\n",
       "    .dataframe thead th {\n",
       "        text-align: right;\n",
       "    }\n",
       "</style>\n",
       "<table border=\"1\" class=\"dataframe\">\n",
       "  <thead>\n",
       "    <tr style=\"text-align: right;\">\n",
       "      <th></th>\n",
       "      <th>food_id</th>\n",
       "      <th>food_name</th>\n",
       "      <th>quantity</th>\n",
       "      <th>expiry_date</th>\n",
       "      <th>provider_id</th>\n",
       "      <th>provider_type</th>\n",
       "      <th>location</th>\n",
       "      <th>food_type</th>\n",
       "      <th>meal_type</th>\n",
       "    </tr>\n",
       "  </thead>\n",
       "  <tbody>\n",
       "    <tr>\n",
       "      <th>0</th>\n",
       "      <td>1</td>\n",
       "      <td>Bread</td>\n",
       "      <td>43</td>\n",
       "      <td>3/17/2025</td>\n",
       "      <td>110</td>\n",
       "      <td>Grocery Store</td>\n",
       "      <td>South Kellyville</td>\n",
       "      <td>Non-Vegetarian</td>\n",
       "      <td>Breakfast</td>\n",
       "    </tr>\n",
       "    <tr>\n",
       "      <th>1</th>\n",
       "      <td>2</td>\n",
       "      <td>Soup</td>\n",
       "      <td>22</td>\n",
       "      <td>3/24/2025</td>\n",
       "      <td>791</td>\n",
       "      <td>Grocery Store</td>\n",
       "      <td>West James</td>\n",
       "      <td>Non-Vegetarian</td>\n",
       "      <td>Dinner</td>\n",
       "    </tr>\n",
       "    <tr>\n",
       "      <th>2</th>\n",
       "      <td>3</td>\n",
       "      <td>Fruits</td>\n",
       "      <td>46</td>\n",
       "      <td>3/28/2025</td>\n",
       "      <td>478</td>\n",
       "      <td>Catering Service</td>\n",
       "      <td>Lake Regina</td>\n",
       "      <td>Vegan</td>\n",
       "      <td>Breakfast</td>\n",
       "    </tr>\n",
       "    <tr>\n",
       "      <th>3</th>\n",
       "      <td>4</td>\n",
       "      <td>Fruits</td>\n",
       "      <td>15</td>\n",
       "      <td>3/16/2025</td>\n",
       "      <td>930</td>\n",
       "      <td>Restaurant</td>\n",
       "      <td>Kellytown</td>\n",
       "      <td>Vegan</td>\n",
       "      <td>Lunch</td>\n",
       "    </tr>\n",
       "    <tr>\n",
       "      <th>4</th>\n",
       "      <td>5</td>\n",
       "      <td>Soup</td>\n",
       "      <td>14</td>\n",
       "      <td>3/19/2025</td>\n",
       "      <td>279</td>\n",
       "      <td>Restaurant</td>\n",
       "      <td>Garciaport</td>\n",
       "      <td>Vegan</td>\n",
       "      <td>Dinner</td>\n",
       "    </tr>\n",
       "  </tbody>\n",
       "</table>\n",
       "</div>"
      ],
      "text/plain": [
       "   food_id food_name  quantity expiry_date  provider_id     provider_type  \\\n",
       "0        1     Bread        43   3/17/2025          110     Grocery Store   \n",
       "1        2      Soup        22   3/24/2025          791     Grocery Store   \n",
       "2        3    Fruits        46   3/28/2025          478  Catering Service   \n",
       "3        4    Fruits        15   3/16/2025          930        Restaurant   \n",
       "4        5      Soup        14   3/19/2025          279        Restaurant   \n",
       "\n",
       "           location       food_type  meal_type  \n",
       "0  South Kellyville  Non-Vegetarian  Breakfast  \n",
       "1        West James  Non-Vegetarian     Dinner  \n",
       "2       Lake Regina           Vegan  Breakfast  \n",
       "3         Kellytown           Vegan      Lunch  \n",
       "4        Garciaport           Vegan     Dinner  "
      ]
     },
     "execution_count": 95,
     "metadata": {},
     "output_type": "execute_result"
    }
   ],
   "source": [
    "food_listings.head()"
   ]
  },
  {
   "cell_type": "code",
   "execution_count": 96,
   "id": "c30969ed",
   "metadata": {},
   "outputs": [
    {
     "data": {
      "text/plain": [
       "array(['Bread', 'Soup', 'Fruits', 'Vegetables', 'Dairy', 'Rice', 'Pasta',\n",
       "       'Salad', 'Chicken', 'Fish'], dtype=object)"
      ]
     },
     "execution_count": 96,
     "metadata": {},
     "output_type": "execute_result"
    }
   ],
   "source": [
    "food_listings['food_name'].unique()"
   ]
  },
  {
   "cell_type": "code",
   "execution_count": 97,
   "id": "ab66e7aa",
   "metadata": {},
   "outputs": [
    {
     "data": {
      "text/plain": [
       "array(['Non-Vegetarian', 'Vegan', 'Vegetarian'], dtype=object)"
      ]
     },
     "execution_count": 97,
     "metadata": {},
     "output_type": "execute_result"
    }
   ],
   "source": [
    "food_listings[\"food_type\"].unique()"
   ]
  },
  {
   "cell_type": "code",
   "execution_count": 98,
   "id": "f3bdffb2",
   "metadata": {},
   "outputs": [
    {
     "name": "stdout",
     "output_type": "stream",
     "text": [
      "     food_name       food_type\n",
      "0        Bread      Vegetarian\n",
      "1         Soup      Vegetarian\n",
      "2       Fruits      Vegetarian\n",
      "3       Fruits      Vegetarian\n",
      "4         Soup      Vegetarian\n",
      "5   Vegetables      Vegetarian\n",
      "6        Dairy           Vegan\n",
      "7         Rice      Vegetarian\n",
      "8        Bread      Vegetarian\n",
      "9         Rice      Vegetarian\n",
      "10       Pasta      Vegetarian\n",
      "11       Pasta      Vegetarian\n",
      "12      Fruits      Vegetarian\n",
      "13       Bread      Vegetarian\n",
      "14       Salad      Vegetarian\n",
      "15       Dairy           Vegan\n",
      "16     Chicken  Non-Vegetarian\n",
      "17        Soup      Vegetarian\n",
      "18        Rice      Vegetarian\n",
      "19       Pasta      Vegetarian\n"
     ]
    }
   ],
   "source": [
    "# Mapping Dictionary\n",
    "\n",
    "mapping = {\n",
    "    \"Bread\": \"Vegetarian\",\n",
    "    \"Soup\": \"Vegetarian\",\n",
    "    \"Fruits\": \"Vegetarian\",\n",
    "    \"Vegetables\": \"Vegetarian\",\n",
    "    \"Rice\": \"Vegetarian\",\n",
    "    \"Pasta\": \"Vegetarian\",\n",
    "    \"Salad\": \"Vegetarian\",\n",
    "    \"Chicken\": \"Non-Vegetarian\",\n",
    "    \"Fish\": \"Non-Vegetarian\",\n",
    "    \"Dairy\": \"Vegan\"\n",
    "}\n",
    "\n",
    "\n",
    "food_listings[\"food_type\"] = food_listings[\"food_name\"].map(mapping)\n",
    "\n",
    "\n",
    "print(food_listings[[\"food_name\", \"food_type\"]].head(20))"
   ]
  },
  {
   "cell_type": "code",
   "execution_count": 99,
   "id": "5f73c265",
   "metadata": {},
   "outputs": [
    {
     "data": {
      "text/html": [
       "<div>\n",
       "<style scoped>\n",
       "    .dataframe tbody tr th:only-of-type {\n",
       "        vertical-align: middle;\n",
       "    }\n",
       "\n",
       "    .dataframe tbody tr th {\n",
       "        vertical-align: top;\n",
       "    }\n",
       "\n",
       "    .dataframe thead th {\n",
       "        text-align: right;\n",
       "    }\n",
       "</style>\n",
       "<table border=\"1\" class=\"dataframe\">\n",
       "  <thead>\n",
       "    <tr style=\"text-align: right;\">\n",
       "      <th></th>\n",
       "      <th>claim_id</th>\n",
       "      <th>food_id</th>\n",
       "      <th>receiver_id</th>\n",
       "      <th>status</th>\n",
       "      <th>timestamp</th>\n",
       "    </tr>\n",
       "  </thead>\n",
       "  <tbody>\n",
       "    <tr>\n",
       "      <th>0</th>\n",
       "      <td>1</td>\n",
       "      <td>164</td>\n",
       "      <td>908</td>\n",
       "      <td>Pending</td>\n",
       "      <td>3/5/2025 5:26</td>\n",
       "    </tr>\n",
       "    <tr>\n",
       "      <th>1</th>\n",
       "      <td>2</td>\n",
       "      <td>353</td>\n",
       "      <td>391</td>\n",
       "      <td>Cancelled</td>\n",
       "      <td>3/11/2025 10:24</td>\n",
       "    </tr>\n",
       "    <tr>\n",
       "      <th>2</th>\n",
       "      <td>3</td>\n",
       "      <td>626</td>\n",
       "      <td>492</td>\n",
       "      <td>Completed</td>\n",
       "      <td>3/21/2025 0:59</td>\n",
       "    </tr>\n",
       "    <tr>\n",
       "      <th>3</th>\n",
       "      <td>4</td>\n",
       "      <td>61</td>\n",
       "      <td>933</td>\n",
       "      <td>Cancelled</td>\n",
       "      <td>3/4/2025 9:08</td>\n",
       "    </tr>\n",
       "    <tr>\n",
       "      <th>4</th>\n",
       "      <td>5</td>\n",
       "      <td>345</td>\n",
       "      <td>229</td>\n",
       "      <td>Pending</td>\n",
       "      <td>3/14/2025 15:17</td>\n",
       "    </tr>\n",
       "  </tbody>\n",
       "</table>\n",
       "</div>"
      ],
      "text/plain": [
       "   claim_id  food_id  receiver_id     status        timestamp\n",
       "0         1      164          908    Pending    3/5/2025 5:26\n",
       "1         2      353          391  Cancelled  3/11/2025 10:24\n",
       "2         3      626          492  Completed   3/21/2025 0:59\n",
       "3         4       61          933  Cancelled    3/4/2025 9:08\n",
       "4         5      345          229    Pending  3/14/2025 15:17"
      ]
     },
     "execution_count": 99,
     "metadata": {},
     "output_type": "execute_result"
    }
   ],
   "source": [
    "claims.head()"
   ]
  },
  {
   "cell_type": "code",
   "execution_count": 100,
   "id": "10f01f3d",
   "metadata": {},
   "outputs": [
    {
     "data": {
      "text/plain": [
       "provider_id    0\n",
       "name           0\n",
       "type           0\n",
       "address        0\n",
       "city           0\n",
       "contact        0\n",
       "dtype: int64"
      ]
     },
     "execution_count": 100,
     "metadata": {},
     "output_type": "execute_result"
    }
   ],
   "source": [
    "providers.isnull().sum()\n"
   ]
  },
  {
   "cell_type": "code",
   "execution_count": 101,
   "id": "5beda762",
   "metadata": {},
   "outputs": [
    {
     "data": {
      "text/plain": [
       "receiver_id    0\n",
       "name           0\n",
       "type           0\n",
       "city           0\n",
       "contact        0\n",
       "dtype: int64"
      ]
     },
     "execution_count": 101,
     "metadata": {},
     "output_type": "execute_result"
    }
   ],
   "source": [
    "receivers.isnull().sum()\n"
   ]
  },
  {
   "cell_type": "code",
   "execution_count": 102,
   "id": "5dd906f6",
   "metadata": {},
   "outputs": [
    {
     "data": {
      "text/plain": [
       "food_id          0\n",
       "food_name        0\n",
       "quantity         0\n",
       "expiry_date      0\n",
       "provider_id      0\n",
       "provider_type    0\n",
       "location         0\n",
       "food_type        0\n",
       "meal_type        0\n",
       "dtype: int64"
      ]
     },
     "execution_count": 102,
     "metadata": {},
     "output_type": "execute_result"
    }
   ],
   "source": [
    "food_listings.isnull().sum()\n"
   ]
  },
  {
   "cell_type": "code",
   "execution_count": 103,
   "id": "227a657f",
   "metadata": {},
   "outputs": [
    {
     "data": {
      "text/plain": [
       "claim_id       0\n",
       "food_id        0\n",
       "receiver_id    0\n",
       "status         0\n",
       "timestamp      0\n",
       "dtype: int64"
      ]
     },
     "execution_count": 103,
     "metadata": {},
     "output_type": "execute_result"
    }
   ],
   "source": [
    "claims.isnull().sum()"
   ]
  },
  {
   "cell_type": "code",
   "execution_count": 104,
   "id": "c44e72a8",
   "metadata": {},
   "outputs": [
    {
     "data": {
      "text/plain": [
       "np.int64(0)"
      ]
     },
     "execution_count": 104,
     "metadata": {},
     "output_type": "execute_result"
    }
   ],
   "source": [
    "providers.duplicated().sum()"
   ]
  },
  {
   "cell_type": "code",
   "execution_count": 105,
   "id": "b9945a78",
   "metadata": {},
   "outputs": [
    {
     "data": {
      "text/plain": [
       "np.int64(0)"
      ]
     },
     "execution_count": 105,
     "metadata": {},
     "output_type": "execute_result"
    }
   ],
   "source": [
    "receivers.duplicated().sum()"
   ]
  },
  {
   "cell_type": "code",
   "execution_count": 106,
   "id": "9682df37",
   "metadata": {},
   "outputs": [
    {
     "data": {
      "text/plain": [
       "np.int64(0)"
      ]
     },
     "execution_count": 106,
     "metadata": {},
     "output_type": "execute_result"
    }
   ],
   "source": [
    "food_listings.duplicated().sum()"
   ]
  },
  {
   "cell_type": "code",
   "execution_count": 107,
   "id": "1cb08caa",
   "metadata": {},
   "outputs": [
    {
     "data": {
      "text/plain": [
       "np.int64(0)"
      ]
     },
     "execution_count": 107,
     "metadata": {},
     "output_type": "execute_result"
    }
   ],
   "source": [
    "claims.duplicated().sum()"
   ]
  },
  {
   "cell_type": "code",
   "execution_count": 108,
   "id": "1bfc0e00",
   "metadata": {},
   "outputs": [
    {
     "name": "stdout",
     "output_type": "stream",
     "text": [
      "<class 'pandas.core.frame.DataFrame'>\n",
      "RangeIndex: 1000 entries, 0 to 999\n",
      "Data columns (total 6 columns):\n",
      " #   Column       Non-Null Count  Dtype \n",
      "---  ------       --------------  ----- \n",
      " 0   provider_id  1000 non-null   int64 \n",
      " 1   name         1000 non-null   object\n",
      " 2   type         1000 non-null   object\n",
      " 3   address      1000 non-null   object\n",
      " 4   city         1000 non-null   object\n",
      " 5   contact      1000 non-null   object\n",
      "dtypes: int64(1), object(5)\n",
      "memory usage: 47.0+ KB\n",
      "<class 'pandas.core.frame.DataFrame'>\n",
      "RangeIndex: 1000 entries, 0 to 999\n",
      "Data columns (total 5 columns):\n",
      " #   Column       Non-Null Count  Dtype \n",
      "---  ------       --------------  ----- \n",
      " 0   receiver_id  1000 non-null   int64 \n",
      " 1   name         1000 non-null   object\n",
      " 2   type         1000 non-null   object\n",
      " 3   city         1000 non-null   object\n",
      " 4   contact      1000 non-null   object\n",
      "dtypes: int64(1), object(4)\n",
      "memory usage: 39.2+ KB\n",
      "<class 'pandas.core.frame.DataFrame'>\n",
      "RangeIndex: 1000 entries, 0 to 999\n",
      "Data columns (total 9 columns):\n",
      " #   Column         Non-Null Count  Dtype \n",
      "---  ------         --------------  ----- \n",
      " 0   food_id        1000 non-null   int64 \n",
      " 1   food_name      1000 non-null   object\n",
      " 2   quantity       1000 non-null   int64 \n",
      " 3   expiry_date    1000 non-null   object\n",
      " 4   provider_id    1000 non-null   int64 \n",
      " 5   provider_type  1000 non-null   object\n",
      " 6   location       1000 non-null   object\n",
      " 7   food_type      1000 non-null   object\n",
      " 8   meal_type      1000 non-null   object\n",
      "dtypes: int64(3), object(6)\n",
      "memory usage: 70.4+ KB\n",
      "<class 'pandas.core.frame.DataFrame'>\n",
      "RangeIndex: 1000 entries, 0 to 999\n",
      "Data columns (total 5 columns):\n",
      " #   Column       Non-Null Count  Dtype \n",
      "---  ------       --------------  ----- \n",
      " 0   claim_id     1000 non-null   int64 \n",
      " 1   food_id      1000 non-null   int64 \n",
      " 2   receiver_id  1000 non-null   int64 \n",
      " 3   status       1000 non-null   object\n",
      " 4   timestamp    1000 non-null   object\n",
      "dtypes: int64(3), object(2)\n",
      "memory usage: 39.2+ KB\n"
     ]
    }
   ],
   "source": [
    "providers.info()\n",
    "receivers.info()\n",
    "food_listings.info()\n",
    "claims.info()\n"
   ]
  },
  {
   "cell_type": "code",
   "execution_count": 109,
   "id": "cee551a9",
   "metadata": {},
   "outputs": [],
   "source": [
    "food_listings['expiry_date'] = pd.to_datetime(food_listings['expiry_date'], dayfirst=True, errors='coerce')"
   ]
  },
  {
   "cell_type": "code",
   "execution_count": 110,
   "id": "91909f88",
   "metadata": {},
   "outputs": [],
   "source": [
    "import psycopg2\n",
    "\n",
    "conn = psycopg2.connect(\n",
    "    host=\"localhost\",\n",
    "    user=\"postgres\",\n",
    "    password=\"0719\",\n",
    ")\n",
    "conn.autocommit = True\n",
    "cursor = conn.cursor()"
   ]
  },
  {
   "cell_type": "code",
   "execution_count": 111,
   "id": "6b74b7a7",
   "metadata": {},
   "outputs": [
    {
     "name": "stdout",
     "output_type": "stream",
     "text": [
      "Database 'food_data' created successfully!\n"
     ]
    }
   ],
   "source": [
    "cursor.execute(\"DROP DATABASE IF EXISTS food_data;\")\n",
    "cursor.execute(\"CREATE DATABASE food_data;\")\n",
    "print(\"Database 'food_data' created successfully!\")"
   ]
  },
  {
   "cell_type": "code",
   "execution_count": 112,
   "id": "8eaee627",
   "metadata": {},
   "outputs": [],
   "source": [
    "conn = psycopg2.connect(\n",
    "    host=\"localhost\",\n",
    "    user=\"postgres\",\n",
    "    password=\"0719\",\n",
    "    dbname=\"food_data\"\n",
    ")\n",
    "\n",
    "cursor = conn.cursor()\n",
    "\n",
    "cursor.execute(\"\"\"\n",
    "    CREATE TABLE IF NOT EXISTS providers (\n",
    "        provider_id INT PRIMARY KEY,\n",
    "        name VARCHAR(255),\n",
    "        type VARCHAR(100),\n",
    "        address TEXT,\n",
    "        city VARCHAR(100),\n",
    "        contact VARCHAR(50)\n",
    "    )\n",
    "\"\"\")\n",
    "conn.commit()\n",
    "\n",
    "\n",
    "cursor.execute(\"\"\"\n",
    "    CREATE TABLE IF NOT EXISTS receivers (\n",
    "        receiver_id INT PRIMARY KEY,\n",
    "        name VARCHAR(255),\n",
    "        type VARCHAR(100),\n",
    "        city VARCHAR(100),\n",
    "        contact VARCHAR(50)\n",
    "    )\n",
    "\"\"\")\n",
    "conn.commit()   \n",
    "\n",
    "\n",
    "cursor.execute(\"\"\"\n",
    "    CREATE TABLE IF NOT EXISTS food_listings (\n",
    "        food_id INT PRIMARY KEY,\n",
    "        food_name VARCHAR(255),\n",
    "        quantity INT,\n",
    "        expiry_date DATE,\n",
    "        provider_id INT,\n",
    "        provider_type VARCHAR(100),\n",
    "        location VARCHAR(255),\n",
    "        food_type VARCHAR(100),\n",
    "        meal_type VARCHAR(100)\n",
    "    )\n",
    "\"\"\")\n",
    "conn.commit()\n",
    "\n",
    "\n",
    "cursor.execute(\"\"\"\n",
    "    CREATE TABLE IF NOT EXISTS claims (\n",
    "        claim_id INT PRIMARY KEY,\n",
    "        food_id INT,\n",
    "        receiver_id INT,\n",
    "        status VARCHAR(50),\n",
    "        timestamp TIMESTAMPTZ\n",
    "    )\n",
    "\"\"\")\n",
    "conn.commit()"
   ]
  },
  {
   "cell_type": "code",
   "execution_count": 113,
   "id": "18420bfb",
   "metadata": {},
   "outputs": [],
   "source": [
    "\n",
    "# Inserting data using iterrows()\n",
    "\n",
    "for index, row in providers.iterrows():\n",
    "    cursor.execute(\"\"\"\n",
    "        INSERT INTO providers (provider_id, name, type, address, city, contact)\n",
    "        VALUES (%s, %s, %s, %s, %s, %s)\n",
    "    \"\"\", tuple(row))\n",
    "conn.commit()"
   ]
  },
  {
   "cell_type": "code",
   "execution_count": 114,
   "id": "138c0210",
   "metadata": {},
   "outputs": [],
   "source": [
    "for index, row in receivers.iterrows():\n",
    "    cursor.execute(\"\"\"\n",
    "        INSERT INTO receivers (receiver_id, name, type, city, contact)\n",
    "        VALUES (%s, %s, %s, %s, %s)\n",
    "    \"\"\", tuple(row))\n",
    "    \n",
    "conn.commit()"
   ]
  },
  {
   "cell_type": "code",
   "execution_count": 115,
   "id": "24d7ee4b",
   "metadata": {},
   "outputs": [],
   "source": [
    "for index, row in food_listings.iterrows():\n",
    "    cursor.execute(\"\"\"\n",
    "        INSERT INTO food_listings(food_id, food_name, quantity, expiry_date, provider_id, provider_type, location, food_type, meal_type)\n",
    "        VALUES (%s, %s, %s, %s, %s, %s, %s, %s, %s)\n",
    "    \"\"\", tuple(row))\n",
    "conn.commit()"
   ]
  },
  {
   "cell_type": "code",
   "execution_count": 116,
   "id": "afe85f70",
   "metadata": {},
   "outputs": [],
   "source": [
    "for index, row in claims.iterrows():\n",
    "    cursor.execute(\"\"\"\n",
    "        INSERT INTO claims (claim_id, food_id, receiver_id, status, timestamp)\n",
    "        VALUES (%s, %s, %s, %s, %s)\n",
    "    \"\"\", tuple(row))\n",
    "conn.commit()"
   ]
  },
  {
   "cell_type": "markdown",
   "id": "418116b4",
   "metadata": {},
   "source": [
    "# **SQL QUERIES**\n",
    "\n",
    "## **Food Providers & Receivers**"
   ]
  },
  {
   "cell_type": "markdown",
   "id": "e8284239",
   "metadata": {},
   "source": [
    "1.  How many food providers and receivers are there in each city?"
   ]
  },
  {
   "cell_type": "code",
   "execution_count": 117,
   "id": "d4580267",
   "metadata": {},
   "outputs": [
    {
     "name": "stdout",
     "output_type": "stream",
     "text": [
      "                      city  provider_count  receiver_count\n",
      "0             Brandonhaven             0.0             2.0\n",
      "1     Port Daniellechester             1.0             0.0\n",
      "2          West Cherylland             0.0             1.0\n",
      "3            New Bobbytown             1.0             0.0\n",
      "4            Patriciamouth             0.0             1.0\n",
      "...                    ...             ...             ...\n",
      "1873           East Lauren             1.0             0.0\n",
      "1874            Collinston             1.0             0.0\n",
      "1875           Angelamouth             0.0             1.0\n",
      "1876          Port Patrick             2.0             0.0\n",
      "1877          Bentleyburgh             1.0             0.0\n",
      "\n",
      "[1878 rows x 3 columns]\n"
     ]
    }
   ],
   "source": [
    "\n",
    "query = \"\"\"\n",
    "SELECT \n",
    "    city,\n",
    "    SUM(Provider_Count) AS Provider_Count,\n",
    "    SUM(Receiver_Count) AS Receiver_Count\n",
    "FROM (\n",
    "    SELECT city, COUNT(*) AS Provider_Count, 0 AS Receiver_Count\n",
    "    FROM providers\n",
    "    GROUP BY city\n",
    "    UNION ALL\n",
    "    SELECT city, 0 AS Provider_Count, COUNT(*) AS Receiver_Count\n",
    "    FROM receivers\n",
    "    GROUP BY city\n",
    ") t\n",
    "GROUP BY city;\n",
    "\"\"\"\n",
    "\n",
    "# Read SQL result into a DataFrame\n",
    "df_q1 = pd.read_sql(query, con=conn)\n",
    "\n",
    "# Display DataFrame\n",
    "print(df_q1)"
   ]
  },
  {
   "cell_type": "markdown",
   "id": "93905fde",
   "metadata": {},
   "source": [
    "2. Which type of food provider (restaurant, grocery store, etc.) contributes the most food?"
   ]
  },
  {
   "cell_type": "code",
   "execution_count": 118,
   "id": "2f10b8f9",
   "metadata": {},
   "outputs": [
    {
     "name": "stdout",
     "output_type": "stream",
     "text": [
      "      provider_type  total_food_quantity\n",
      "0        Restaurant                 6923\n",
      "1       Supermarket                 6696\n",
      "2  Catering Service                 6116\n",
      "3     Grocery Store                 6059\n"
     ]
    }
   ],
   "source": [
    "q2 = \"\"\"\n",
    "SELECT provider_type, SUM(quantity) AS total_food_quantity\n",
    "FROM food_listings\n",
    "GROUP BY provider_type\n",
    "ORDER BY total_food_quantity DESC;\n",
    "\"\"\"\n",
    "df_q2 = pd.read_sql(q2, con=conn)\n",
    "print(df_q2)"
   ]
  },
  {
   "cell_type": "markdown",
   "id": "642e0b82",
   "metadata": {},
   "source": [
    "3. What is the contact information of food providers in a specific city?"
   ]
  },
  {
   "cell_type": "code",
   "execution_count": 119,
   "id": "acdb5b62",
   "metadata": {},
   "outputs": [
    {
     "name": "stdout",
     "output_type": "stream",
     "text": [
      "             name       contact  \\\n",
      "0  Coleman-Farley  193.714.6577   \n",
      "\n",
      "                                             address           city  \n",
      "0  078 Matthew Creek Apt. 319\\nSaraborough, MA 53978  Valentineside  \n"
     ]
    }
   ],
   "source": [
    "q3 = \"\"\"\n",
    "SELECT name, contact, address, city\n",
    "FROM providers\n",
    "WHERE city = 'Valentineside';\n",
    "\"\"\"\n",
    "q3_df = pd.read_sql(q3, con=conn)\n",
    "print(q3_df)"
   ]
  },
  {
   "cell_type": "markdown",
   "id": "3c447dc1",
   "metadata": {},
   "source": [
    "4. Which receivers have claimed the most food?"
   ]
  },
  {
   "cell_type": "code",
   "execution_count": 120,
   "id": "394735ce",
   "metadata": {},
   "outputs": [
    {
     "name": "stdout",
     "output_type": "stream",
     "text": [
      "             name       contact  \\\n",
      "0  Coleman-Farley  193.714.6577   \n",
      "\n",
      "                                             address           city  \n",
      "0  078 Matthew Creek Apt. 319\\nSaraborough, MA 53978  Valentineside  \n"
     ]
    }
   ],
   "source": [
    "q4 = \"\"\"\n",
    "SELECT r.name, SUM(f.quantity) AS Total_Claimed_Quantity\n",
    "FROM claims c\n",
    "JOIN receivers r ON c.receiver_id = r.receiver_id\n",
    "JOIN food_listings f ON c.food_id = f.food_id\n",
    "WHERE c.status = 'Completed'\n",
    "GROUP BY r.name\n",
    "ORDER BY Total_Claimed_Quantity DESC;\n",
    "\"\"\"\n",
    "q4_df = pd.read_sql(q4,con=conn)\n",
    "print(q3_df)"
   ]
  },
  {
   "cell_type": "markdown",
   "id": "79c9fcf2",
   "metadata": {},
   "source": [
    "5. Total quantity of food available from all providers"
   ]
  },
  {
   "cell_type": "code",
   "execution_count": 121,
   "id": "51f12eda",
   "metadata": {},
   "outputs": [
    {
     "name": "stdout",
     "output_type": "stream",
     "text": [
      "   total_available_quantity\n",
      "0                     25794\n"
     ]
    }
   ],
   "source": [
    "q5 = \"\"\"\n",
    "SELECT SUM(quantity) AS Total_Available_Quantity\n",
    "FROM food_listings;\n",
    "\"\"\"\n",
    "q5_df = pd.read_sql(q5,con=conn)\n",
    "print(q5_df)"
   ]
  },
  {
   "cell_type": "markdown",
   "id": "a052e8fc",
   "metadata": {},
   "source": [
    "6. Which city has the highest number of food listings?\n",
    "\n"
   ]
  },
  {
   "cell_type": "code",
   "execution_count": 122,
   "id": "3f44f5bb",
   "metadata": {},
   "outputs": [
    {
     "name": "stdout",
     "output_type": "stream",
     "text": [
      "        city  listings_count\n",
      "0  New Carol               6\n"
     ]
    }
   ],
   "source": [
    "q6 = \"\"\"\n",
    "SELECT p.city, COUNT(*) AS Listings_Count\n",
    "FROM food_listings f\n",
    "JOIN providers p ON f.provider_ID = p.provider_ID\n",
    "GROUP BY p.city\n",
    "ORDER BY Listings_Count DESC\n",
    "LIMIT 1;\n",
    "\"\"\"\n",
    "q6_df =pd.read_sql(q6, con=conn)\n",
    "print(q6_df)\n"
   ]
  },
  {
   "cell_type": "markdown",
   "id": "cfa66bd1",
   "metadata": {},
   "source": [
    "7. Most commonly available food types"
   ]
  },
  {
   "cell_type": "code",
   "execution_count": 123,
   "id": "a9f5e0e8",
   "metadata": {},
   "outputs": [
    {
     "name": "stdout",
     "output_type": "stream",
     "text": [
      "        food_type  count_type\n",
      "0      Vegetarian         702\n",
      "1  Non-Vegetarian         195\n",
      "2           Vegan         103\n"
     ]
    }
   ],
   "source": [
    "q7 = \"\"\"\n",
    "SELECT food_type, COUNT(*) AS Count_Type\n",
    "FROM food_listings\n",
    "GROUP BY food_type\n",
    "ORDER BY Count_Type DESC;\n",
    "\"\"\"\n",
    "q7_df = pd.read_sql(q7, con=conn)\n",
    "print(q7_df)"
   ]
  },
  {
   "cell_type": "markdown",
   "id": "740bd768",
   "metadata": {},
   "source": [
    "8. How many food claims have been made for each food item?\n"
   ]
  },
  {
   "cell_type": "code",
   "execution_count": 124,
   "id": "fac00f03",
   "metadata": {},
   "outputs": [
    {
     "name": "stdout",
     "output_type": "stream",
     "text": [
      "    food_name  claims_count\n",
      "0        Rice           122\n",
      "1        Soup           114\n",
      "2       Dairy           110\n",
      "3        Fish           108\n",
      "4       Salad           106\n",
      "5     Chicken           102\n",
      "6       Bread            94\n",
      "7       Pasta            87\n",
      "8  Vegetables            86\n",
      "9      Fruits            71\n"
     ]
    }
   ],
   "source": [
    "q8 = \"\"\"\n",
    "SELECT f.food_name, COUNT(c.claim_id) AS claims_count\n",
    "FROM claims c\n",
    "JOIN food_listings f ON c.food_id = f.food_id\n",
    "GROUP BY f.food_name\n",
    "ORDER BY claims_count DESC;\n",
    "\"\"\"\n",
    "q8_df = pd.read_sql(q8, con=conn)\n",
    "print(q8_df)"
   ]
  },
  {
   "cell_type": "markdown",
   "id": "f3f4c6e8",
   "metadata": {},
   "source": [
    "9. Which provider has had the highest number of successful food claims?\n",
    "\n"
   ]
  },
  {
   "cell_type": "code",
   "execution_count": 125,
   "id": "7a5271e1",
   "metadata": {},
   "outputs": [
    {
     "name": "stdout",
     "output_type": "stream",
     "text": [
      "          name  successful_claims\n",
      "0  Barry Group                  5\n"
     ]
    }
   ],
   "source": [
    "q9 = \"\"\"\n",
    "SELECT p.name, COUNT(c.claim_id) AS successful_claims\n",
    "FROM claims c\n",
    "JOIN food_listings f ON c.food_id = f.food_id\n",
    "JOIN providers p ON f.provider_id = p.provider_id\n",
    "WHERE c.status = 'Completed'\n",
    "GROUP BY p.name\n",
    "ORDER BY successful_claims DESC\n",
    "LIMIT 1;\n",
    "\"\"\"\n",
    "q9_df = pd.read_sql(q9, con=conn)\n",
    "print(q9_df)"
   ]
  },
  {
   "cell_type": "markdown",
   "id": "37b87811",
   "metadata": {},
   "source": [
    "10. Percentage of claims completed vs pending vs canceled."
   ]
  },
  {
   "cell_type": "code",
   "execution_count": 126,
   "id": "f8d51d01",
   "metadata": {},
   "outputs": [
    {
     "name": "stdout",
     "output_type": "stream",
     "text": [
      "      status  percentage\n",
      "0    Pending        32.5\n",
      "1  Completed        33.9\n",
      "2  Cancelled        33.6\n"
     ]
    }
   ],
   "source": [
    "q10 = \"\"\"\n",
    "SELECT status, \n",
    "       ROUND(COUNT(*) * 100.0 / (SELECT COUNT(*) FROM claims), 2) AS Percentage\n",
    "FROM claims\n",
    "GROUP BY status;\n",
    "\"\"\"\n",
    "q10_df = pd.read_sql(q10, con=conn)\n",
    "print(q10_df)\n"
   ]
  },
  {
   "cell_type": "markdown",
   "id": "152d3c52",
   "metadata": {},
   "source": [
    "11. Average quantity of food claimed per receiver.\n",
    "\n"
   ]
  },
  {
   "cell_type": "code",
   "execution_count": 127,
   "id": "d0982bc5",
   "metadata": {},
   "outputs": [
    {
     "name": "stdout",
     "output_type": "stream",
     "text": [
      "                 name  avg_quantity_claimed\n",
      "0          Aaron Rios                   9.0\n",
      "1         Aaron Scott                  45.0\n",
      "2    Abigail Crawford                   5.0\n",
      "3         Aimee Stone                   7.0\n",
      "4          Alex White                  18.0\n",
      "..                ...                   ...\n",
      "287   Victor Crawford                  28.0\n",
      "288      Victor Reyes                  37.0\n",
      "289   Victoria Torres                   9.0\n",
      "290     Walter Carter                  31.0\n",
      "291    William Barnes                  47.0\n",
      "\n",
      "[292 rows x 2 columns]\n"
     ]
    }
   ],
   "source": [
    "q11 = \"\"\"\n",
    "SELECT r.name, ROUND(AVG(f.quantity), 2) AS Avg_Quantity_Claimed\n",
    "FROM claims c\n",
    "JOIN receivers r ON c.receiver_id = r.receiver_id\n",
    "JOIN food_listings f ON c.food_id = f.food_id\n",
    "WHERE c.status = 'Completed'\n",
    "GROUP BY r.name;\n",
    "\"\"\"\n",
    "q11_df = pd.read_sql(q11, con=conn)\n",
    "print(q11_df)"
   ]
  },
  {
   "cell_type": "markdown",
   "id": "ce7855f1",
   "metadata": {},
   "source": [
    "12. Which meal type is claimed the most?"
   ]
  },
  {
   "cell_type": "code",
   "execution_count": 128,
   "id": "5fd3dab9",
   "metadata": {},
   "outputs": [
    {
     "name": "stdout",
     "output_type": "stream",
     "text": [
      "   meal_type  total_claimed_quantity\n",
      "0  Breakfast                    2423\n"
     ]
    }
   ],
   "source": [
    "q12 = \"\"\"\n",
    "SELECT f.meal_type, SUM(f.quantity) AS Total_Claimed_Quantity\n",
    "FROM claims c\n",
    "JOIN food_listings f ON c.food_id = f.food_id\n",
    "WHERE c.status = 'Completed'\n",
    "GROUP BY f.meal_type\n",
    "ORDER BY Total_Claimed_Quantity DESC\n",
    "LIMIT 1;\n",
    "\"\"\"\n",
    "q12_df = pd.read_sql(q12, con=conn)\n",
    "print(q12_df)"
   ]
  },
  {
   "cell_type": "markdown",
   "id": "f55a2198",
   "metadata": {},
   "source": [
    "13. Total quantity of food donated by each provider"
   ]
  },
  {
   "cell_type": "code",
   "execution_count": 129,
   "id": "e1375ece",
   "metadata": {},
   "outputs": [
    {
     "name": "stdout",
     "output_type": "stream",
     "text": [
      "                                name  total_donated\n",
      "0                         Miller Inc            217\n",
      "1                        Barry Group            179\n",
      "2         Evans, Wright and Mitchell            158\n",
      "3                        Smith Group            150\n",
      "4                       Campbell LLC            145\n",
      "..                               ...            ...\n",
      "623                   Gonzales-Moore              1\n",
      "624                   Reyes and Sons              1\n",
      "625  Martinez, Armstrong and Carroll              1\n",
      "626                  Norris-Townsend              1\n",
      "627                        Mcgee PLC              1\n",
      "\n",
      "[628 rows x 2 columns]\n"
     ]
    }
   ],
   "source": [
    "q13 = \"\"\"\n",
    "SELECT p.name, SUM(f.quantity) AS Total_Donated\n",
    "FROM food_listings f\n",
    "JOIN providers p ON f.provider_id = p.provider_id\n",
    "GROUP BY p.name\n",
    "ORDER BY Total_Donated DESC;\n",
    "\"\"\"\n",
    "q13_df = pd.read_sql(q13, con=conn)\n",
    "print(q13_df)\n"
   ]
  },
  {
   "cell_type": "markdown",
   "id": "c9180b09",
   "metadata": {},
   "source": [
    "14. What is the total listed food quantity and unclaimed food quantity (food not claimed at all)?"
   ]
  },
  {
   "cell_type": "code",
   "execution_count": 130,
   "id": "92bfbc5c",
   "metadata": {},
   "outputs": [
    {
     "name": "stdout",
     "output_type": "stream",
     "text": [
      "   total_food_listed  total_unclaimed_food\n",
      "0              25794                  9160\n"
     ]
    }
   ],
   "source": [
    "q14= \"\"\"\n",
    "SELECT\n",
    "   -- Total food listed\n",
    "   (SELECT SUM(quantity) FROM food_listings) AS total_food_listed,\n",
    "\n",
    "   -- Total unclaimed food (i.e., sum of food from listings with no claim at all)\n",
    "   (SELECT SUM(quantity) \n",
    "      FROM food_listings fl\n",
    "      LEFT JOIN claims c ON fl.food_id = c.food_id\n",
    "      WHERE c.claim_id IS NULL\n",
    "   ) AS total_unclaimed_food\n",
    ";\n",
    "\"\"\"\n",
    "\n",
    "q14_df = pd.read_sql(q14, con=conn)\n",
    "print(q14_df)"
   ]
  },
  {
   "cell_type": "markdown",
   "id": "769571be",
   "metadata": {},
   "source": [
    "15. Which food type is most often claimed but least often completed?"
   ]
  },
  {
   "cell_type": "code",
   "execution_count": 131,
   "id": "131e7bd0",
   "metadata": {},
   "outputs": [
    {
     "name": "stdout",
     "output_type": "stream",
     "text": [
      "    food_type  completed  total_claims  incomplete\n",
      "0  Vegetarian        239           680         441\n"
     ]
    }
   ],
   "source": [
    "q15 = \"\"\"\n",
    "SELECT \n",
    "    fl.food_type, \n",
    "    SUM(CASE WHEN c.status = 'Completed' THEN 1 ELSE 0 END) AS completed,\n",
    "    COUNT(*) AS total_claims,\n",
    "    (COUNT(*) - SUM(CASE WHEN c.status = 'Completed' THEN 1 ELSE 0 END)) AS incomplete\n",
    "FROM claims c\n",
    "JOIN food_listings fl ON c.food_id = fl.food_id\n",
    "GROUP BY fl.food_type\n",
    "ORDER BY incomplete DESC, completed ASC\n",
    "LIMIT 1;\n",
    "\"\"\"\n",
    "\n",
    "q15_df = pd.read_sql(q15, con=conn)\n",
    "print(q15_df)"
   ]
  },
  {
   "cell_type": "markdown",
   "id": "79d4a7a8",
   "metadata": {},
   "source": [
    "16. Donation activity for the whole week."
   ]
  },
  {
   "cell_type": "code",
   "execution_count": 132,
   "id": "57aa7d6c",
   "metadata": {},
   "outputs": [
    {
     "name": "stdout",
     "output_type": "stream",
     "text": [
      "   weekday  total_quantity_donated\n",
      "0        1                    4888\n",
      "1        2                    3943\n",
      "2        3                    3270\n",
      "3        4                    2981\n",
      "4        5                    3523\n",
      "5        6                    3235\n",
      "6        7                    3954\n"
     ]
    }
   ],
   "source": [
    "q16 = \"\"\"\n",
    "SELECT \n",
    "    ((EXTRACT(DOW FROM expiry_date)::int + 1)) AS weekday,\n",
    "    SUM(quantity) AS total_quantity_donated\n",
    "FROM food_listings\n",
    "GROUP BY weekday\n",
    "ORDER BY weekday;\n",
    "\"\"\"\n",
    "\n",
    "q16_df = pd.read_sql(q16, con=conn)\n",
    "print(q16_df)\n"
   ]
  }
 ],
 "metadata": {
  "kernelspec": {
   "display_name": "food",
   "language": "python",
   "name": "python3"
  },
  "language_info": {
   "codemirror_mode": {
    "name": "ipython",
    "version": 3
   },
   "file_extension": ".py",
   "mimetype": "text/x-python",
   "name": "python",
   "nbconvert_exporter": "python",
   "pygments_lexer": "ipython3",
   "version": "3.12.7"
  }
 },
 "nbformat": 4,
 "nbformat_minor": 5
}
